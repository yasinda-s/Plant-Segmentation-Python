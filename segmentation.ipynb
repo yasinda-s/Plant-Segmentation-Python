{
 "cells": [
  {
   "cell_type": "code",
   "execution_count": 1,
   "metadata": {},
   "outputs": [
    {
     "name": "stderr",
     "output_type": "stream",
     "text": [
      "D:\\Anaconda3\\envs\\ProjectEnv\\lib\\site-packages\\numpy\\_distributor_init.py:32: UserWarning: loaded more than 1 DLL from .libs:\n",
      "D:\\Anaconda3\\envs\\ProjectEnv\\lib\\site-packages\\numpy\\.libs\\libopenblas.GK7GX5KEQ4F6UYO3P26ULGBQYHGQO7J4.gfortran-win_amd64.dll\n",
      "D:\\Anaconda3\\envs\\ProjectEnv\\lib\\site-packages\\numpy\\.libs\\libopenblas.XWYDX2IKJW2NMTWSFYNGFUWKQU3LYTCZ.gfortran-win_amd64.dll\n",
      "  stacklevel=1)\n"
     ]
    }
   ],
   "source": [
    "import cv2 as cv\n",
    "import numpy as np\n",
    "\n",
    "src = cv.imread(\"plant001.png\")\n",
    "cv.imshow('Source Image', src)\n",
    "cv.waitKey(0)\n",
    "cv.destroyAllWindows()"
   ]
  },
  {
   "cell_type": "code",
   "execution_count": 2,
   "metadata": {},
   "outputs": [],
   "source": [
    "hsv_src = cv.cvtColor(src, cv.COLOR_BGR2HSV)\n",
    "\n",
    "cv.imshow('HSV Image', hsv_src)\n",
    "cv.waitKey(0)\n",
    "cv.destroyAllWindows()"
   ]
  },
  {
   "cell_type": "code",
   "execution_count": 3,
   "metadata": {},
   "outputs": [],
   "source": [
    "mask = cv.inRange(hsv_src, (35, 50, 50), (85, 255,255))\n",
    "\n",
    "\n",
    "cv.imshow('Mask', mask)\n",
    "cv.waitKey(0)\n",
    "cv.destroyAllWindows()"
   ]
  },
  {
   "cell_type": "code",
   "execution_count": 5,
   "metadata": {},
   "outputs": [],
   "source": [
    "masked_img = cv.bitwise_and(hsv_src, hsv_src, mask=mask)\n",
    "\n",
    "cv.imshow('Bitwise', masked_img)\n",
    "cv.waitKey(0)\n",
    "cv.destroyAllWindows()"
   ]
  },
  {
   "cell_type": "code",
   "execution_count": 6,
   "metadata": {},
   "outputs": [],
   "source": [
    "blurred = cv.GaussianBlur(masked_img, (5, 5), 0)\n",
    "\n",
    "cv.imshow('Source Image', blurred)\n",
    "cv.waitKey(0)\n",
    "cv.destroyAllWindows()\n",
    "\n",
    "green_only = blurred"
   ]
  },
  {
   "cell_type": "code",
   "execution_count": 7,
   "metadata": {},
   "outputs": [],
   "source": [
    "coverted = cv.cvtColor(green_only, cv.COLOR_HSV2BGR)\n",
    "\n",
    "coverted[:,:,0] = 0\n",
    "coverted[:,:,2] = 0\n",
    "\n",
    "coverted = cv.medianBlur(coverted, 5)\n",
    "\n",
    "cv.imshow('Binary Image', coverted)\n",
    "cv.waitKey(0)\n",
    "cv.destroyAllWindows()"
   ]
  },
  {
   "cell_type": "code",
   "execution_count": 13,
   "metadata": {},
   "outputs": [],
   "source": [
    "#continue here\n",
    "imgLaplacian = cv.Laplacian(coverted, -1, 3, 3)\n",
    "\n",
    "sharp = np.float32(coverted)\n",
    "\n",
    "# temp = cv.addWeighted(sharp, 1.5, imgLaplacian, -0.5, 0)\n",
    "imgResult = sharp - imgLaplacian\n",
    "\n",
    "\n",
    "# convert back to 8bits gray scale\n",
    "imgResult = np.clip(imgResult, 0, 255)\n",
    "imgResult = imgResult.astype('uint8')\n",
    "\n",
    "imgLaplacian = np.clip(imgLaplacian, 0, 255)\n",
    "imgLaplacian = np.uint8(imgLaplacian)\n",
    "\n",
    "cv.imshow('Laplace Filtered Image', imgLaplacian)\n",
    "cv.imshow('New Sharped Image', imgResult)\n",
    "\n",
    "cv.waitKey(0)\n",
    "cv.destroyAllWindows()"
   ]
  },
  {
   "cell_type": "code",
   "execution_count": 14,
   "metadata": {},
   "outputs": [],
   "source": [
    "bw = imgResult[:,:,1] #cv.cvtColor(imgResult, cv.COLOR_BGR2GRAY)\n",
    "\n",
    "# edges = cv.Canny(bw, 100,200)\n",
    "# bw = bw + 1*edges\n",
    "\n",
    "cv.imshow('Binary Image', bw)\n",
    "cv.waitKey(0)\n",
    "cv.destroyAllWindows()"
   ]
  },
  {
   "cell_type": "code",
   "execution_count": 17,
   "metadata": {},
   "outputs": [],
   "source": [
    "ret, dst = cv.threshold(bw, 50,255,cv.THRESH_BINARY+cv.THRESH_OTSU)\n",
    "element = cv.getStructuringElement(cv.MORPH_RECT, (7,7))\n",
    "dst = cv.morphologyEx(dst, cv.MORPH_OPEN, element)\n",
    "\n",
    "cv.imshow('Binary Image', dst)\n",
    "cv.waitKey(0)\n",
    "cv.destroyAllWindows()"
   ]
  },
  {
   "cell_type": "code",
   "execution_count": 23,
   "metadata": {},
   "outputs": [],
   "source": [
    "# Perform the distance transform algorithm\n",
    "dist = cv.distanceTransform(dst, cv.DIST_L2, 3)\n",
    "# Normalize the distance image for range = {0.0, 1.0}\n",
    "# so we can visualize and threshold it\n",
    "cv.normalize(dist, dist, 0, 1.0, cv.NORM_MINMAX)\n",
    "cv.imshow('Distance Transform Image', dist)\n",
    "cv.waitKey(0)\n",
    "cv.destroyAllWindows()"
   ]
  },
  {
   "cell_type": "code",
   "execution_count": 24,
   "metadata": {},
   "outputs": [],
   "source": [
    "# Threshold to obtain the peaks\n",
    "# This will be the markers for the foreground objects\n",
    "_, dist = cv.threshold(dist, 0.5*dist.max(), 255, 0)\n",
    "# Dilate a bit the dist image\n",
    "# kernel1 = np.ones((3,3), dtype=np.uint8)\n",
    "# dist = cv.dilate(dist, kernel1)\n",
    "cv.imshow('Peaks', dist)\n",
    "cv.waitKey(0)\n",
    "cv.destroyAllWindows()"
   ]
  },
  {
   "cell_type": "code",
   "execution_count": 13,
   "metadata": {},
   "outputs": [],
   "source": [
    "# Create the CV_8U version of the distance image\n",
    "# It is needed for findContours()\n",
    "dist_8u = dist.astype('uint8')\n",
    "# Find total markers\n",
    "contours, _ = cv.findContours(dist_8u, cv.RETR_EXTERNAL, cv.CHAIN_APPROX_SIMPLE)\n",
    "# Create the marker image for the watershed algorithm\n",
    "markers = np.zeros(dist.shape, dtype=np.int32)\n",
    "# Draw the foreground markers\n",
    "for i in range(len(contours)):\n",
    "    cv.drawContours(markers, contours, i, (i+1), -1)\n",
    "\n",
    "# Draw the background marker\n",
    "cv.circle(markers, (5,5), 3, (255,255,255), -1)\n",
    "\n",
    "markers_8u = (markers * 50).astype('uint8')\n",
    "# cv.imshow('Markers', markers_8u)\n",
    "# cv.waitKey(0)\n",
    "# cv.destroyAllWindows()"
   ]
  },
  {
   "cell_type": "code",
   "execution_count": 14,
   "metadata": {},
   "outputs": [],
   "source": [
    "import random as rng\n",
    "\n",
    "# Perform the watershed algorithm\n",
    "cv.watershed(imgResult, markers)\n",
    "#mark = np.zeros(markers.shape, dtype=np.uint8)\n",
    "mark = markers.astype('uint8')\n",
    "mark = cv.bitwise_not(mark)\n",
    "# uncomment this if you want to see how the mark\n",
    "# image looks like at that point\n",
    "#cv.imshow('Markers_v2', mark)\n",
    "# Generate random colors\n",
    "colors = []\n",
    "for contour in contours:\n",
    "    colors.append((rng.randint(0,256), rng.randint(0,256), rng.randint(0,256)))\n",
    "# Create the result image\n",
    "dst = np.zeros((markers.shape[0], markers.shape[1], 3), dtype=np.uint8)\n",
    "# Fill labeled objects with random colors\n",
    "for i in range(markers.shape[0]):\n",
    "    for j in range(markers.shape[1]):\n",
    "        index = markers[i,j]\n",
    "        if index > 0 and index <= len(contours):\n",
    "            dst[i,j,:] = colors[index-1]\n",
    "            \n",
    "# Visualize the final image\n",
    "# cv.imshow('Final Result', dst)\n",
    "# cv.waitKey(0)\n",
    "# cv.destroyAllWindows()"
   ]
  },
  {
   "cell_type": "code",
   "execution_count": 15,
   "metadata": {},
   "outputs": [],
   "source": [
    "alpha = 0.5\n",
    "beta = (1.0 - alpha)\n",
    "out = cv.addWeighted(src, alpha, dst, beta, 50)\n",
    "# [blend_images]\n",
    "# [display]\n",
    "cv.imshow('dst', out)\n",
    "cv.waitKey(0)\n",
    "\n",
    "# [display]\n",
    "cv.destroyAllWindows()"
   ]
  },
  {
   "cell_type": "code",
   "execution_count": null,
   "metadata": {},
   "outputs": [],
   "source": []
  },
  {
   "cell_type": "code",
   "execution_count": null,
   "metadata": {},
   "outputs": [],
   "source": []
  }
 ],
 "metadata": {
  "interpreter": {
   "hash": "f1058ac39a4b5cc6a2d664bf07a90cc7a0b869b1d28e3e4a0289bda448411850"
  },
  "kernelspec": {
   "display_name": "Python 3 (ipykernel)",
   "language": "python",
   "name": "python3"
  },
  "language_info": {
   "codemirror_mode": {
    "name": "ipython",
    "version": 3
   },
   "file_extension": ".py",
   "mimetype": "text/x-python",
   "name": "python",
   "nbconvert_exporter": "python",
   "pygments_lexer": "ipython3",
   "version": "3.7.10"
  }
 },
 "nbformat": 4,
 "nbformat_minor": 2
}
